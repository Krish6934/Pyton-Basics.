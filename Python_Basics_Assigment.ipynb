{
  "nbformat": 4,
  "nbformat_minor": 0,
  "metadata": {
    "colab": {
      "provenance": []
    },
    "kernelspec": {
      "name": "python3",
      "display_name": "Python 3"
    },
    "language_info": {
      "name": "python"
    }
  },
  "cells": [
    {
      "cell_type": "code",
      "execution_count": null,
      "metadata": {
        "id": "14tmqVAOgd_7"
      },
      "outputs": [],
      "source": []
    },
    {
      "cell_type": "code",
      "source": [],
      "metadata": {
        "id": "vDoQ9Yw4J1WN"
      },
      "execution_count": null,
      "outputs": []
    },
    {
      "cell_type": "markdown",
      "source": [
        "# Python Basics Assigment Q/A\n",
        "\n",
        "   1. what is paython, and why is it popular ?\n",
        "  \n",
        "   - Python is a high-level,interpreted programming language known for its readability and simplicity. it's easy to learn, has a large community, and supports various applications like web development, data science, AI and data analysis.\n",
        "\n",
        "   2. what is an interpeter in python ?\n",
        "\n",
        "   - An interpreter reads and executes Python code line by line, converting it into machine language at runtime.\n",
        "\n",
        "   3. what are pre-defind keywords in python ?\n",
        "   - Keywords are reserved words in Python that have special meanings, Like if, for, whie, def, etc. They are part of the language syntax.\n",
        "\n",
        "   4. Can keywords be used as variadle names ?\n",
        "    \n",
        "   - NO , keywords cannot be used as variable names because they are reserved for specific functions in the language.\n",
        "\n",
        "   5. What is mutability in Python ?\n",
        "\n",
        "   - Mutability refers to whether an object's value can be changed after it's created. Mutable objects can be modified, while immutadle ones cannot.\n",
        "\n",
        "   6. Why are lists mutable, but tuples are immutable ?\n",
        "   - Lists are designed for flexible, changeable data, so they are mutable. Tuples are often used for fixed data, so they are immutable to ensure consistency and safety.\n",
        "\n",
        "   7. What is the difference between \"==\" and \"is\" operators in Python ?\n",
        "\n",
        "   - == checks if two values are equal.\n",
        "   - is checks if two values are equal to the same object in memory.\n",
        "\n",
        "   8. What are logical operators in Python ?\n",
        "   - Longical operators are used to combine conditional statements:\n",
        "   - and (True if both are true)\n",
        "   - or (True if at least one is true)\n",
        "   - not (Reverses the condition)\n",
        "\n",
        "   9. What is type casting in Python ?\n",
        "   - Type casting is converting a variable from one data type to anoter, like from int to float, or str to int.\n",
        "\n",
        "   10. What is the difference between implicit and explicit type casting ?\n",
        "\n",
        "   - Implicit: Done automatically by Python (e.g., int to float).\n",
        "   - Explicit: Done manually using functions like int(),float(), or str().\n",
        "\n",
        "\n",
        "   11. What is the purpose of conditional statements in Python ?\n",
        "\n",
        "   - Conditional statements allow code to mark decision and execute different blocks blocks based on whether conditions are true or false.\n",
        "\n",
        "   12. How does the elif statement work ?\n",
        "\n",
        "   - elif (short for \"else if\") checks additional conditions if the previous if condition was false. it alows multiple possibilities to be tested.\n",
        "\n",
        "   13. What is the differeence between for and whilw loops ?\n",
        "\n",
        "   - for loop is used when the number of iterations is known.\n",
        "   - while loop is used when the condition needs to be  checked continuously until it's false.\n",
        "\n",
        "   14. Describe a scenario where a while loop is more suitable than a for loop.\n",
        "\n",
        "   - Example: continuously asking the user for a password until they enter the correct one. since we don't know how many attempts they'll need, a while loop is more suitable."
      ],
      "metadata": {
        "id": "rDXmzV_uhgER"
      }
    },
    {
      "cell_type": "code",
      "source": [
        "# Write a Python program to print \"Hello,World!\"\n",
        "\n",
        "print (\"Hello,World!\")\n",
        "\n",
        "\n"
      ],
      "metadata": {
        "colab": {
          "base_uri": "https://localhost:8080/"
        },
        "id": "goWiK8K9J3tj",
        "outputId": "2c5f11a3-8e45-4144-f975-94dd861d7764"
      },
      "execution_count": null,
      "outputs": [
        {
          "output_type": "stream",
          "name": "stdout",
          "text": [
            "Hello,World!\n"
          ]
        }
      ]
    },
    {
      "cell_type": "code",
      "source": [
        "# Write a Python Program that displays your name and age.\n",
        "\n",
        "name = \"Krish\"\n",
        "age = 15\n",
        "\n",
        "print(\"Name:\",name)\n",
        "print(\"Age:\",age)\n"
      ],
      "metadata": {
        "colab": {
          "base_uri": "https://localhost:8080/"
        },
        "id": "_NwQLRjPMe8Z",
        "outputId": "a60a4a4b-60c0-4146-8b3e-5f244596850b"
      },
      "execution_count": null,
      "outputs": [
        {
          "output_type": "stream",
          "name": "stdout",
          "text": [
            "Name: Krish\n",
            "Age: 15\n"
          ]
        }
      ]
    },
    {
      "cell_type": "code",
      "source": [
        "# Write code to print all the pre-defined keywords in Python using the keyword library.\n",
        "\n",
        "\n",
        "import keyword\n",
        "print(keyword.kwlist)\n"
      ],
      "metadata": {
        "colab": {
          "base_uri": "https://localhost:8080/"
        },
        "id": "hEXBcS7YNlTa",
        "outputId": "0616f261-9f58-4d1e-ba71-86819a6ae536"
      },
      "execution_count": null,
      "outputs": [
        {
          "output_type": "stream",
          "name": "stdout",
          "text": [
            "['False', 'None', 'True', 'and', 'as', 'assert', 'async', 'await', 'break', 'class', 'continue', 'def', 'del', 'elif', 'else', 'except', 'finally', 'for', 'from', 'global', 'if', 'import', 'in', 'is', 'lambda', 'nonlocal', 'not', 'or', 'pass', 'raise', 'return', 'try', 'while', 'with', 'yield']\n"
          ]
        }
      ]
    },
    {
      "cell_type": "code",
      "source": [
        "# Write a program that checks if a given word is a Python keyword.\n",
        "\n",
        "\n",
        "def is_keyword(word):\n",
        "  if keyword.iskeyword(word):\n",
        "    print(f\"'{word}' is a Python keyword.\")\n",
        "\n",
        "    user_input = input(\"Enter a word: \")"
      ],
      "metadata": {
        "id": "D9iVMSbLQWeu"
      },
      "execution_count": null,
      "outputs": []
    },
    {
      "cell_type": "code",
      "source": [
        "# Create a list and tuple in python, and demonstrate how attempting to change an element works differentiy for each.\n",
        "\n",
        "my_list = [1,2,3]\n",
        "my_tuple = (1,2,3)\n",
        "\n",
        "my_list[0] = 10\n",
        "print(\"Modified list:\", my_list)\n",
        "\n",
        "print(\"Original tuple:\", my_tuple)"
      ],
      "metadata": {
        "colab": {
          "base_uri": "https://localhost:8080/"
        },
        "id": "o49SZYqQToBq",
        "outputId": "992090ce-4adb-4c7c-983d-e631c4d4731e"
      },
      "execution_count": null,
      "outputs": [
        {
          "output_type": "stream",
          "name": "stdout",
          "text": [
            "Modified list: [10, 2, 3]\n",
            "Original tuple: (1, 2, 3)\n"
          ]
        }
      ]
    },
    {
      "cell_type": "code",
      "source": [
        "# Write a function to demonstrate the behavior of mutable and immutable arguments.\n",
        "\n",
        "def modify_list(lst):\n",
        "  lst.append(4)\n",
        "\n",
        "  def modify_number(n):\n",
        "    n+= 1\n",
        "\n",
        "    my_list = [1,2,3]\n",
        "    my_number = 10\n",
        "\n",
        "    modify_list(my_list)\n",
        "    modify_number(my_number)\n",
        "\n",
        "    print(\"List after modification:\", my_list)\n",
        "    print(\"Number after modification:\", my_number)"
      ],
      "metadata": {
        "id": "LrT4JAWGa6tA"
      },
      "execution_count": null,
      "outputs": []
    },
    {
      "cell_type": "code",
      "source": [
        "# Write aprogram that performs basic arithmetic operations on two user-input numbers.\n",
        "\"\"\"\n",
        "a = float(input(\"Enter the first number: \"))\n",
        "\n",
        "b = float(input(\"Enter second number: \"))\n",
        "\n",
        "print(\"Addition:\", a + b)\n",
        "print(\"Subtraction:\", a - b)\n",
        "print(\"Multiplication:\",a * b)\n",
        "print(\"Division:\", a / b)\n",
        "\"\"\"\n"
      ],
      "metadata": {
        "colab": {
          "base_uri": "https://localhost:8080/",
          "height": 54
        },
        "id": "OUjaCPJ_kGTw",
        "outputId": "a199a080-7ada-4e43-d7bf-186b593ce142"
      },
      "execution_count": null,
      "outputs": [
        {
          "output_type": "execute_result",
          "data": {
            "text/plain": [
              "'\\na = float(input(\"Enter the first number: \"))\\n\\nb = float(input(\"Enter second number: \"))\\n\\nprint(\"Addition:\", a + b)\\nprint(\"Subtraction:\", a - b)\\nprint(\"Multiplication:\",a * b)\\nprint(\"Division:\", a / b)\\n'"
            ],
            "application/vnd.google.colaboratory.intrinsic+json": {
              "type": "string"
            }
          },
          "metadata": {},
          "execution_count": 117
        }
      ]
    },
    {
      "cell_type": "code",
      "source": [
        "# Write a program to demonstrate the use of logical operators.\n",
        "\n",
        "x = 5\n",
        "y = 10\n",
        "\n",
        "print(x > 3 and y < 20)\n",
        "print(x < 3 or y > 5)\n",
        "print(not (x == y))"
      ],
      "metadata": {
        "colab": {
          "base_uri": "https://localhost:8080/"
        },
        "id": "MnfFafPnqn2p",
        "outputId": "471be0dc-784b-456f-c94a-5184f116af50"
      },
      "execution_count": null,
      "outputs": [
        {
          "output_type": "stream",
          "name": "stdout",
          "text": [
            "True\n",
            "True\n",
            "True\n"
          ]
        }
      ]
    },
    {
      "cell_type": "code",
      "source": [
        "# Write a Python program to convert user input from string to integerm, float,and boolean types.\n",
        "\"\"\"\n",
        "user_input = input(\"Enter a value: \")\n",
        "\n",
        "try:\n",
        "\n",
        "\n",
        "  int_value int(user_input)\n",
        "  print(\"Integer:\"int_value)\n",
        "\n",
        "  Except ValueError\n",
        "  print (\"cannot convert to integer.\"):\n",
        "   (user_input)\n",
        "\n",
        "  try:\n",
        "    float(user_input)\n",
        "    print(\"Float:\", float_value)\n",
        "\"\"\""
      ],
      "metadata": {
        "colab": {
          "base_uri": "https://localhost:8080/",
          "height": 54
        },
        "id": "PYApUEgAsL_k",
        "outputId": "5ef137b9-5791-4e0d-a9d1-96486adcad5a"
      },
      "execution_count": null,
      "outputs": [
        {
          "output_type": "execute_result",
          "data": {
            "text/plain": [
              "'\\nuser_input = input(\"Enter a value: \")\\n\\ntry:\\n\\n\\n  int_value int(user_input)\\n  print(\"Integer:\"int_value)\\n  \\n  Except ValueError\\n  print (\"cannot convert to integer.\"):\\n   (user_input)\\n  \\n  try:\\n    float(user_input)\\n    print(\"Float:\", float_value)\\n'"
            ],
            "application/vnd.google.colaboratory.intrinsic+json": {
              "type": "string"
            }
          },
          "metadata": {},
          "execution_count": 124
        }
      ]
    },
    {
      "cell_type": "code",
      "source": [
        "# Write code to demonstrate type casting with list elements.\n",
        "\n",
        "str_list = [\"1\",\"2\",\"3\"]\n",
        "int_list = [int(i) for i in str_list]\n",
        "print(\"conwerted list:\", int_list)"
      ],
      "metadata": {
        "colab": {
          "base_uri": "https://localhost:8080/"
        },
        "id": "yviwXwbtzdOg",
        "outputId": "f7093fdc-b80e-4d11-e059-f5280ea4ac65"
      },
      "execution_count": null,
      "outputs": [
        {
          "output_type": "stream",
          "name": "stdout",
          "text": [
            "conwerted list: [1, 2, 3]\n"
          ]
        }
      ]
    },
    {
      "cell_type": "code",
      "source": [
        "# Write a prodram that checks if a number is positive,negative, or zero.\n",
        "\"\"\"\n",
        "user_input =input(\"Enter a number: \")\n",
        "\n",
        "try:\n",
        "  num = float(user_input)\n",
        "  if num > 0:\n",
        "    print(\"The number is positive.\")\n",
        "    elif num < 0:\n",
        "      print(\"The number is negative.\")\n",
        "\n",
        "      else:\n",
        "        print(\"The number is zero.\")\n",
        "   \"\"\"\n"
      ],
      "metadata": {
        "colab": {
          "base_uri": "https://localhost:8080/",
          "height": 54
        },
        "id": "FKIQYnoU1SdE",
        "outputId": "e62a5e35-8bb9-4af9-833c-05a0a54be8b6"
      },
      "execution_count": null,
      "outputs": [
        {
          "output_type": "execute_result",
          "data": {
            "text/plain": [
              "'\\nuser_input =input(\"Enter a number: \")\\n\\ntry:\\n  num = float(user_input)\\n  if num > 0:\\n    print(\"The number is positive.\")\\n    elif num < 0:\\n      print(\"The number is negative.\")\\n\\n      else:\\n        print(\"The number is zero.\")\\n   '"
            ],
            "application/vnd.google.colaboratory.intrinsic+json": {
              "type": "string"
            }
          },
          "metadata": {},
          "execution_count": 134
        }
      ]
    },
    {
      "cell_type": "code",
      "source": [
        "# Wrte a for loop to print numbers from 1 to 10.\n",
        "\n",
        "for i in range(1 , 11 ):\n",
        "  print(i)"
      ],
      "metadata": {
        "id": "g5h0i4V2-oeQ",
        "colab": {
          "base_uri": "https://localhost:8080/"
        },
        "outputId": "a7b9dc4c-6cb0-48c3-d2d5-287612d8d9b1"
      },
      "execution_count": 1,
      "outputs": [
        {
          "output_type": "stream",
          "name": "stdout",
          "text": [
            "1\n",
            "2\n",
            "3\n",
            "4\n",
            "5\n",
            "6\n",
            "7\n",
            "8\n",
            "9\n",
            "10\n"
          ]
        }
      ]
    },
    {
      "cell_type": "code",
      "source": [
        "# Write a Python program to find the sum of all even numbers between 1 and 50.\n",
        "\n",
        "total = 0\n",
        "for i in range(2 , 51 , 2 ):\n",
        "  total += i\n",
        "  print(\"Sum of even numbers : \", total)"
      ],
      "metadata": {
        "colab": {
          "base_uri": "https://localhost:8080/"
        },
        "id": "1FI5n8jd68f9",
        "outputId": "7fad9d83-1b6b-4827-f22b-fc88c60da62f"
      },
      "execution_count": 2,
      "outputs": [
        {
          "output_type": "stream",
          "name": "stdout",
          "text": [
            "Sum of even numbers :  2\n",
            "Sum of even numbers :  6\n",
            "Sum of even numbers :  12\n",
            "Sum of even numbers :  20\n",
            "Sum of even numbers :  30\n",
            "Sum of even numbers :  42\n",
            "Sum of even numbers :  56\n",
            "Sum of even numbers :  72\n",
            "Sum of even numbers :  90\n",
            "Sum of even numbers :  110\n",
            "Sum of even numbers :  132\n",
            "Sum of even numbers :  156\n",
            "Sum of even numbers :  182\n",
            "Sum of even numbers :  210\n",
            "Sum of even numbers :  240\n",
            "Sum of even numbers :  272\n",
            "Sum of even numbers :  306\n",
            "Sum of even numbers :  342\n",
            "Sum of even numbers :  380\n",
            "Sum of even numbers :  420\n",
            "Sum of even numbers :  462\n",
            "Sum of even numbers :  506\n",
            "Sum of even numbers :  552\n",
            "Sum of even numbers :  600\n",
            "Sum of even numbers :  650\n"
          ]
        }
      ]
    },
    {
      "cell_type": "code",
      "source": [
        "# Write a progrom to reverse a string using a white loop.\n",
        "\"\"\"\n",
        "text = input(\"Enter a string:\")\n",
        "reversed_text = \"\"\n",
        "i = len(text) - 1\n",
        "\n",
        "while i >= 0:\n",
        "  reversed_text += text[i]\n",
        "  i -= 1\n",
        "\n",
        "  print(\"Reversed string:\", reversed_text)\n",
        "  \"\"\""
      ],
      "metadata": {
        "colab": {
          "base_uri": "https://localhost:8080/",
          "height": 36
        },
        "id": "l9UwgrRA79qO",
        "outputId": "61e64eaa-156a-4339-a13d-17f4ed1ce52f"
      },
      "execution_count": 10,
      "outputs": [
        {
          "output_type": "execute_result",
          "data": {
            "text/plain": [
              "'\\ntext = input(\"Enter a string:\")\\nreversed_text = \"\"\\ni = len(text) - 1\\n\\nwhile i >= 0:\\n  reversed_text += text[i]\\n  i -= 1 \\n\\n  print(\"Reversed string:\", reversed_text)\\n  '"
            ],
            "application/vnd.google.colaboratory.intrinsic+json": {
              "type": "string"
            }
          },
          "metadata": {},
          "execution_count": 10
        }
      ]
    },
    {
      "cell_type": "code",
      "source": [
        "# white a Python program to calculate the factorial of a by the user using a while loop.\n",
        "\"\"\"\n",
        "num = int(input(\"Enter a number: \"))\n",
        "factorial = 1\n",
        "\n",
        "while num > 0:\n",
        "   factorial *= num\n",
        "num -= 1\n",
        "\n",
        "print(\"Factorial:\", factorial)\n",
        "\"\"\""
      ],
      "metadata": {
        "colab": {
          "base_uri": "https://localhost:8080/",
          "height": 36
        },
        "id": "8-to1Yxd-CW9",
        "outputId": "344691d9-5cbd-410f-d2ac-f60a30441484"
      },
      "execution_count": 15,
      "outputs": [
        {
          "output_type": "execute_result",
          "data": {
            "text/plain": [
              "'\\nnum = int(input(\"Enter a number: \"))\\nfactorial = 1\\n\\nwhile num > 0:\\n   factorial *= num\\nnum -= 1\\n\\nprint(\"Factorial:\", factorial)\\n'"
            ],
            "application/vnd.google.colaboratory.intrinsic+json": {
              "type": "string"
            }
          },
          "metadata": {},
          "execution_count": 15
        }
      ]
    }
  ]
}